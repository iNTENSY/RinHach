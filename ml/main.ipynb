{
 "cells": [
  {
   "cell_type": "code",
   "execution_count": 1,
   "metadata": {},
   "outputs": [],
   "source": [
    "import pandas\n",
    "import requests\n",
    "import time\n",
    "from sklearn.model_selection import train_test_split\n",
    "from sklearn.preprocessing import LabelEncoder\n",
    "from sklearn.ensemble import AdaBoostClassifier\n",
    "from sklearn.metrics import classification_report, accuracy_score, confusion_matrix\n",
    "from imblearn.over_sampling import BorderlineSMOTE\n",
    "from imblearn import pipeline\n",
    "from sklearn.ensemble import RandomForestClassifier\n",
    "from xgboost import XGBClassifier"
   ]
  },
  {
   "cell_type": "code",
   "execution_count": 2,
   "metadata": {},
   "outputs": [],
   "source": [
    "#   Чтение датасета\n",
    "\n",
    "df = pandas.read_csv(\"fraud_dataset.csv\", sep=\"|\")\n",
    "df_for_site = df[['step', 'zipcodeOri', 'zipMerchant']].copy()\n",
    "df = df.drop(columns=[\"Unnamed: 0\", 'step', 'zipcodeOri', 'zipMerchant'])"
   ]
  },
  {
   "cell_type": "code",
   "execution_count": 3,
   "metadata": {},
   "outputs": [],
   "source": [
    "#   Подготовка датасета к работе \n",
    "\n",
    "df = df.drop_duplicates()\n",
    "df_for_predict = df.iloc[-50000:]\n",
    "df = df[~df.isin(df_for_predict)].dropna()\n",
    "for column in [\"customer\", 'amount'] + [\"age\", \"gender\", 'category', 'merchant']:\n",
    "    le = LabelEncoder()\n",
    "    df[column] = le.fit_transform(df[column])"
   ]
  },
  {
   "cell_type": "code",
   "execution_count": 4,
   "metadata": {},
   "outputs": [],
   "source": [
    "#   Подготовка данных к работе\n",
    "\n",
    "X = df.drop(\"fraud\", axis=1)\n",
    "y = df[\"fraud\"]\n",
    "X_train, X_test, y_train, y_test = train_test_split(\n",
    "    X, y, test_size=0.2, random_state=42\n",
    ")\n",
    "X_test_1 = X_test.copy()\n",
    "X_test_2 = X_test.copy()\n",
    "X_test_3 = X_test.copy()"
   ]
  },
  {
   "cell_type": "code",
   "execution_count": 5,
   "metadata": {},
   "outputs": [
    {
     "data": {
      "text/html": [
       "<style>#sk-container-id-1 {color: black;background-color: white;}#sk-container-id-1 pre{padding: 0;}#sk-container-id-1 div.sk-toggleable {background-color: white;}#sk-container-id-1 label.sk-toggleable__label {cursor: pointer;display: block;width: 100%;margin-bottom: 0;padding: 0.3em;box-sizing: border-box;text-align: center;}#sk-container-id-1 label.sk-toggleable__label-arrow:before {content: \"▸\";float: left;margin-right: 0.25em;color: #696969;}#sk-container-id-1 label.sk-toggleable__label-arrow:hover:before {color: black;}#sk-container-id-1 div.sk-estimator:hover label.sk-toggleable__label-arrow:before {color: black;}#sk-container-id-1 div.sk-toggleable__content {max-height: 0;max-width: 0;overflow: hidden;text-align: left;background-color: #f0f8ff;}#sk-container-id-1 div.sk-toggleable__content pre {margin: 0.2em;color: black;border-radius: 0.25em;background-color: #f0f8ff;}#sk-container-id-1 input.sk-toggleable__control:checked~div.sk-toggleable__content {max-height: 200px;max-width: 100%;overflow: auto;}#sk-container-id-1 input.sk-toggleable__control:checked~label.sk-toggleable__label-arrow:before {content: \"▾\";}#sk-container-id-1 div.sk-estimator input.sk-toggleable__control:checked~label.sk-toggleable__label {background-color: #d4ebff;}#sk-container-id-1 div.sk-label input.sk-toggleable__control:checked~label.sk-toggleable__label {background-color: #d4ebff;}#sk-container-id-1 input.sk-hidden--visually {border: 0;clip: rect(1px 1px 1px 1px);clip: rect(1px, 1px, 1px, 1px);height: 1px;margin: -1px;overflow: hidden;padding: 0;position: absolute;width: 1px;}#sk-container-id-1 div.sk-estimator {font-family: monospace;background-color: #f0f8ff;border: 1px dotted black;border-radius: 0.25em;box-sizing: border-box;margin-bottom: 0.5em;}#sk-container-id-1 div.sk-estimator:hover {background-color: #d4ebff;}#sk-container-id-1 div.sk-parallel-item::after {content: \"\";width: 100%;border-bottom: 1px solid gray;flex-grow: 1;}#sk-container-id-1 div.sk-label:hover label.sk-toggleable__label {background-color: #d4ebff;}#sk-container-id-1 div.sk-serial::before {content: \"\";position: absolute;border-left: 1px solid gray;box-sizing: border-box;top: 0;bottom: 0;left: 50%;z-index: 0;}#sk-container-id-1 div.sk-serial {display: flex;flex-direction: column;align-items: center;background-color: white;padding-right: 0.2em;padding-left: 0.2em;position: relative;}#sk-container-id-1 div.sk-item {position: relative;z-index: 1;}#sk-container-id-1 div.sk-parallel {display: flex;align-items: stretch;justify-content: center;background-color: white;position: relative;}#sk-container-id-1 div.sk-item::before, #sk-container-id-1 div.sk-parallel-item::before {content: \"\";position: absolute;border-left: 1px solid gray;box-sizing: border-box;top: 0;bottom: 0;left: 50%;z-index: -1;}#sk-container-id-1 div.sk-parallel-item {display: flex;flex-direction: column;z-index: 1;position: relative;background-color: white;}#sk-container-id-1 div.sk-parallel-item:first-child::after {align-self: flex-end;width: 50%;}#sk-container-id-1 div.sk-parallel-item:last-child::after {align-self: flex-start;width: 50%;}#sk-container-id-1 div.sk-parallel-item:only-child::after {width: 0;}#sk-container-id-1 div.sk-dashed-wrapped {border: 1px dashed gray;margin: 0 0.4em 0.5em 0.4em;box-sizing: border-box;padding-bottom: 0.4em;background-color: white;}#sk-container-id-1 div.sk-label label {font-family: monospace;font-weight: bold;display: inline-block;line-height: 1.2em;}#sk-container-id-1 div.sk-label-container {text-align: center;}#sk-container-id-1 div.sk-container {/* jupyter's `normalize.less` sets `[hidden] { display: none; }` but bootstrap.min.css set `[hidden] { display: none !important; }` so we also need the `!important` here to be able to override the default hidden behavior on the sphinx rendered scikit-learn.org. See: https://github.com/scikit-learn/scikit-learn/issues/21755 */display: inline-block !important;position: relative;}#sk-container-id-1 div.sk-text-repr-fallback {display: none;}</style><div id=\"sk-container-id-1\" class=\"sk-top-container\"><div class=\"sk-text-repr-fallback\"><pre>Pipeline(steps=[(&#x27;SMOTE&#x27;, BorderlineSMOTE()),\n",
       "                (&#x27;Logistic Regression1&#x27;,\n",
       "                 RandomForestClassifier(n_estimators=20))])</pre><b>In a Jupyter environment, please rerun this cell to show the HTML representation or trust the notebook. <br />On GitHub, the HTML representation is unable to render, please try loading this page with nbviewer.org.</b></div><div class=\"sk-container\" hidden><div class=\"sk-item sk-dashed-wrapped\"><div class=\"sk-label-container\"><div class=\"sk-label sk-toggleable\"><input class=\"sk-toggleable__control sk-hidden--visually\" id=\"sk-estimator-id-1\" type=\"checkbox\" ><label for=\"sk-estimator-id-1\" class=\"sk-toggleable__label sk-toggleable__label-arrow\">Pipeline</label><div class=\"sk-toggleable__content\"><pre>Pipeline(steps=[(&#x27;SMOTE&#x27;, BorderlineSMOTE()),\n",
       "                (&#x27;Logistic Regression1&#x27;,\n",
       "                 RandomForestClassifier(n_estimators=20))])</pre></div></div></div><div class=\"sk-serial\"><div class=\"sk-item\"><div class=\"sk-estimator sk-toggleable\"><input class=\"sk-toggleable__control sk-hidden--visually\" id=\"sk-estimator-id-2\" type=\"checkbox\" ><label for=\"sk-estimator-id-2\" class=\"sk-toggleable__label sk-toggleable__label-arrow\">BorderlineSMOTE</label><div class=\"sk-toggleable__content\"><pre>BorderlineSMOTE()</pre></div></div></div><div class=\"sk-item\"><div class=\"sk-estimator sk-toggleable\"><input class=\"sk-toggleable__control sk-hidden--visually\" id=\"sk-estimator-id-3\" type=\"checkbox\" ><label for=\"sk-estimator-id-3\" class=\"sk-toggleable__label sk-toggleable__label-arrow\">RandomForestClassifier</label><div class=\"sk-toggleable__content\"><pre>RandomForestClassifier(n_estimators=20)</pre></div></div></div></div></div></div></div>"
      ],
      "text/plain": [
       "Pipeline(steps=[('SMOTE', BorderlineSMOTE()),\n",
       "                ('Logistic Regression1',\n",
       "                 RandomForestClassifier(n_estimators=20))])"
      ]
     },
     "execution_count": 5,
     "metadata": {},
     "output_type": "execute_result"
    }
   ],
   "source": [
    "#   Модель №1\n",
    "resampling = BorderlineSMOTE()\n",
    "model = RandomForestClassifier(n_estimators=20)\n",
    "pip_line = pipeline.Pipeline([('SMOTE', resampling), ('Logistic Regression1', model)])\n",
    "pip_line.fit(X_train, y_train) "
   ]
  },
  {
   "cell_type": "code",
   "execution_count": 6,
   "metadata": {},
   "outputs": [
    {
     "data": {
      "text/html": [
       "<style>#sk-container-id-2 {color: black;background-color: white;}#sk-container-id-2 pre{padding: 0;}#sk-container-id-2 div.sk-toggleable {background-color: white;}#sk-container-id-2 label.sk-toggleable__label {cursor: pointer;display: block;width: 100%;margin-bottom: 0;padding: 0.3em;box-sizing: border-box;text-align: center;}#sk-container-id-2 label.sk-toggleable__label-arrow:before {content: \"▸\";float: left;margin-right: 0.25em;color: #696969;}#sk-container-id-2 label.sk-toggleable__label-arrow:hover:before {color: black;}#sk-container-id-2 div.sk-estimator:hover label.sk-toggleable__label-arrow:before {color: black;}#sk-container-id-2 div.sk-toggleable__content {max-height: 0;max-width: 0;overflow: hidden;text-align: left;background-color: #f0f8ff;}#sk-container-id-2 div.sk-toggleable__content pre {margin: 0.2em;color: black;border-radius: 0.25em;background-color: #f0f8ff;}#sk-container-id-2 input.sk-toggleable__control:checked~div.sk-toggleable__content {max-height: 200px;max-width: 100%;overflow: auto;}#sk-container-id-2 input.sk-toggleable__control:checked~label.sk-toggleable__label-arrow:before {content: \"▾\";}#sk-container-id-2 div.sk-estimator input.sk-toggleable__control:checked~label.sk-toggleable__label {background-color: #d4ebff;}#sk-container-id-2 div.sk-label input.sk-toggleable__control:checked~label.sk-toggleable__label {background-color: #d4ebff;}#sk-container-id-2 input.sk-hidden--visually {border: 0;clip: rect(1px 1px 1px 1px);clip: rect(1px, 1px, 1px, 1px);height: 1px;margin: -1px;overflow: hidden;padding: 0;position: absolute;width: 1px;}#sk-container-id-2 div.sk-estimator {font-family: monospace;background-color: #f0f8ff;border: 1px dotted black;border-radius: 0.25em;box-sizing: border-box;margin-bottom: 0.5em;}#sk-container-id-2 div.sk-estimator:hover {background-color: #d4ebff;}#sk-container-id-2 div.sk-parallel-item::after {content: \"\";width: 100%;border-bottom: 1px solid gray;flex-grow: 1;}#sk-container-id-2 div.sk-label:hover label.sk-toggleable__label {background-color: #d4ebff;}#sk-container-id-2 div.sk-serial::before {content: \"\";position: absolute;border-left: 1px solid gray;box-sizing: border-box;top: 0;bottom: 0;left: 50%;z-index: 0;}#sk-container-id-2 div.sk-serial {display: flex;flex-direction: column;align-items: center;background-color: white;padding-right: 0.2em;padding-left: 0.2em;position: relative;}#sk-container-id-2 div.sk-item {position: relative;z-index: 1;}#sk-container-id-2 div.sk-parallel {display: flex;align-items: stretch;justify-content: center;background-color: white;position: relative;}#sk-container-id-2 div.sk-item::before, #sk-container-id-2 div.sk-parallel-item::before {content: \"\";position: absolute;border-left: 1px solid gray;box-sizing: border-box;top: 0;bottom: 0;left: 50%;z-index: -1;}#sk-container-id-2 div.sk-parallel-item {display: flex;flex-direction: column;z-index: 1;position: relative;background-color: white;}#sk-container-id-2 div.sk-parallel-item:first-child::after {align-self: flex-end;width: 50%;}#sk-container-id-2 div.sk-parallel-item:last-child::after {align-self: flex-start;width: 50%;}#sk-container-id-2 div.sk-parallel-item:only-child::after {width: 0;}#sk-container-id-2 div.sk-dashed-wrapped {border: 1px dashed gray;margin: 0 0.4em 0.5em 0.4em;box-sizing: border-box;padding-bottom: 0.4em;background-color: white;}#sk-container-id-2 div.sk-label label {font-family: monospace;font-weight: bold;display: inline-block;line-height: 1.2em;}#sk-container-id-2 div.sk-label-container {text-align: center;}#sk-container-id-2 div.sk-container {/* jupyter's `normalize.less` sets `[hidden] { display: none; }` but bootstrap.min.css set `[hidden] { display: none !important; }` so we also need the `!important` here to be able to override the default hidden behavior on the sphinx rendered scikit-learn.org. See: https://github.com/scikit-learn/scikit-learn/issues/21755 */display: inline-block !important;position: relative;}#sk-container-id-2 div.sk-text-repr-fallback {display: none;}</style><div id=\"sk-container-id-2\" class=\"sk-top-container\"><div class=\"sk-text-repr-fallback\"><pre>AdaBoostClassifier(random_state=42)</pre><b>In a Jupyter environment, please rerun this cell to show the HTML representation or trust the notebook. <br />On GitHub, the HTML representation is unable to render, please try loading this page with nbviewer.org.</b></div><div class=\"sk-container\" hidden><div class=\"sk-item\"><div class=\"sk-estimator sk-toggleable\"><input class=\"sk-toggleable__control sk-hidden--visually\" id=\"sk-estimator-id-4\" type=\"checkbox\" checked><label for=\"sk-estimator-id-4\" class=\"sk-toggleable__label sk-toggleable__label-arrow\">AdaBoostClassifier</label><div class=\"sk-toggleable__content\"><pre>AdaBoostClassifier(random_state=42)</pre></div></div></div></div></div>"
      ],
      "text/plain": [
       "AdaBoostClassifier(random_state=42)"
      ]
     },
     "execution_count": 6,
     "metadata": {},
     "output_type": "execute_result"
    }
   ],
   "source": [
    "#   Модель №2\n",
    "model = AdaBoostClassifier(n_estimators=50, random_state=42)\n",
    "model.fit(X_train, y_train)"
   ]
  },
  {
   "cell_type": "code",
   "execution_count": 7,
   "metadata": {},
   "outputs": [
    {
     "data": {
      "text/html": [
       "<style>#sk-container-id-3 {color: black;background-color: white;}#sk-container-id-3 pre{padding: 0;}#sk-container-id-3 div.sk-toggleable {background-color: white;}#sk-container-id-3 label.sk-toggleable__label {cursor: pointer;display: block;width: 100%;margin-bottom: 0;padding: 0.3em;box-sizing: border-box;text-align: center;}#sk-container-id-3 label.sk-toggleable__label-arrow:before {content: \"▸\";float: left;margin-right: 0.25em;color: #696969;}#sk-container-id-3 label.sk-toggleable__label-arrow:hover:before {color: black;}#sk-container-id-3 div.sk-estimator:hover label.sk-toggleable__label-arrow:before {color: black;}#sk-container-id-3 div.sk-toggleable__content {max-height: 0;max-width: 0;overflow: hidden;text-align: left;background-color: #f0f8ff;}#sk-container-id-3 div.sk-toggleable__content pre {margin: 0.2em;color: black;border-radius: 0.25em;background-color: #f0f8ff;}#sk-container-id-3 input.sk-toggleable__control:checked~div.sk-toggleable__content {max-height: 200px;max-width: 100%;overflow: auto;}#sk-container-id-3 input.sk-toggleable__control:checked~label.sk-toggleable__label-arrow:before {content: \"▾\";}#sk-container-id-3 div.sk-estimator input.sk-toggleable__control:checked~label.sk-toggleable__label {background-color: #d4ebff;}#sk-container-id-3 div.sk-label input.sk-toggleable__control:checked~label.sk-toggleable__label {background-color: #d4ebff;}#sk-container-id-3 input.sk-hidden--visually {border: 0;clip: rect(1px 1px 1px 1px);clip: rect(1px, 1px, 1px, 1px);height: 1px;margin: -1px;overflow: hidden;padding: 0;position: absolute;width: 1px;}#sk-container-id-3 div.sk-estimator {font-family: monospace;background-color: #f0f8ff;border: 1px dotted black;border-radius: 0.25em;box-sizing: border-box;margin-bottom: 0.5em;}#sk-container-id-3 div.sk-estimator:hover {background-color: #d4ebff;}#sk-container-id-3 div.sk-parallel-item::after {content: \"\";width: 100%;border-bottom: 1px solid gray;flex-grow: 1;}#sk-container-id-3 div.sk-label:hover label.sk-toggleable__label {background-color: #d4ebff;}#sk-container-id-3 div.sk-serial::before {content: \"\";position: absolute;border-left: 1px solid gray;box-sizing: border-box;top: 0;bottom: 0;left: 50%;z-index: 0;}#sk-container-id-3 div.sk-serial {display: flex;flex-direction: column;align-items: center;background-color: white;padding-right: 0.2em;padding-left: 0.2em;position: relative;}#sk-container-id-3 div.sk-item {position: relative;z-index: 1;}#sk-container-id-3 div.sk-parallel {display: flex;align-items: stretch;justify-content: center;background-color: white;position: relative;}#sk-container-id-3 div.sk-item::before, #sk-container-id-3 div.sk-parallel-item::before {content: \"\";position: absolute;border-left: 1px solid gray;box-sizing: border-box;top: 0;bottom: 0;left: 50%;z-index: -1;}#sk-container-id-3 div.sk-parallel-item {display: flex;flex-direction: column;z-index: 1;position: relative;background-color: white;}#sk-container-id-3 div.sk-parallel-item:first-child::after {align-self: flex-end;width: 50%;}#sk-container-id-3 div.sk-parallel-item:last-child::after {align-self: flex-start;width: 50%;}#sk-container-id-3 div.sk-parallel-item:only-child::after {width: 0;}#sk-container-id-3 div.sk-dashed-wrapped {border: 1px dashed gray;margin: 0 0.4em 0.5em 0.4em;box-sizing: border-box;padding-bottom: 0.4em;background-color: white;}#sk-container-id-3 div.sk-label label {font-family: monospace;font-weight: bold;display: inline-block;line-height: 1.2em;}#sk-container-id-3 div.sk-label-container {text-align: center;}#sk-container-id-3 div.sk-container {/* jupyter's `normalize.less` sets `[hidden] { display: none; }` but bootstrap.min.css set `[hidden] { display: none !important; }` so we also need the `!important` here to be able to override the default hidden behavior on the sphinx rendered scikit-learn.org. See: https://github.com/scikit-learn/scikit-learn/issues/21755 */display: inline-block !important;position: relative;}#sk-container-id-3 div.sk-text-repr-fallback {display: none;}</style><div id=\"sk-container-id-3\" class=\"sk-top-container\"><div class=\"sk-text-repr-fallback\"><pre>XGBClassifier(base_score=None, booster=None, callbacks=None,\n",
       "              colsample_bylevel=None, colsample_bynode=None,\n",
       "              colsample_bytree=None, device=None, early_stopping_rounds=None,\n",
       "              enable_categorical=False, eval_metric=None, feature_types=None,\n",
       "              gamma=None, grow_policy=None, importance_type=None,\n",
       "              interaction_constraints=None, learning_rate=None, max_bin=None,\n",
       "              max_cat_threshold=None, max_cat_to_onehot=None,\n",
       "              max_delta_step=None, max_depth=None, max_leaves=None,\n",
       "              min_child_weight=None, missing=nan, monotone_constraints=None,\n",
       "              multi_strategy=None, n_estimators=None, n_jobs=None,\n",
       "              num_parallel_tree=None, random_state=None, ...)</pre><b>In a Jupyter environment, please rerun this cell to show the HTML representation or trust the notebook. <br />On GitHub, the HTML representation is unable to render, please try loading this page with nbviewer.org.</b></div><div class=\"sk-container\" hidden><div class=\"sk-item\"><div class=\"sk-estimator sk-toggleable\"><input class=\"sk-toggleable__control sk-hidden--visually\" id=\"sk-estimator-id-5\" type=\"checkbox\" checked><label for=\"sk-estimator-id-5\" class=\"sk-toggleable__label sk-toggleable__label-arrow\">XGBClassifier</label><div class=\"sk-toggleable__content\"><pre>XGBClassifier(base_score=None, booster=None, callbacks=None,\n",
       "              colsample_bylevel=None, colsample_bynode=None,\n",
       "              colsample_bytree=None, device=None, early_stopping_rounds=None,\n",
       "              enable_categorical=False, eval_metric=None, feature_types=None,\n",
       "              gamma=None, grow_policy=None, importance_type=None,\n",
       "              interaction_constraints=None, learning_rate=None, max_bin=None,\n",
       "              max_cat_threshold=None, max_cat_to_onehot=None,\n",
       "              max_delta_step=None, max_depth=None, max_leaves=None,\n",
       "              min_child_weight=None, missing=nan, monotone_constraints=None,\n",
       "              multi_strategy=None, n_estimators=None, n_jobs=None,\n",
       "              num_parallel_tree=None, random_state=None, ...)</pre></div></div></div></div></div>"
      ],
      "text/plain": [
       "XGBClassifier(base_score=None, booster=None, callbacks=None,\n",
       "              colsample_bylevel=None, colsample_bynode=None,\n",
       "              colsample_bytree=None, device=None, early_stopping_rounds=None,\n",
       "              enable_categorical=False, eval_metric=None, feature_types=None,\n",
       "              gamma=None, grow_policy=None, importance_type=None,\n",
       "              interaction_constraints=None, learning_rate=None, max_bin=None,\n",
       "              max_cat_threshold=None, max_cat_to_onehot=None,\n",
       "              max_delta_step=None, max_depth=None, max_leaves=None,\n",
       "              min_child_weight=None, missing=nan, monotone_constraints=None,\n",
       "              multi_strategy=None, n_estimators=None, n_jobs=None,\n",
       "              num_parallel_tree=None, random_state=None, ...)"
      ]
     },
     "execution_count": 7,
     "metadata": {},
     "output_type": "execute_result"
    }
   ],
   "source": [
    "#   Модель №3\n",
    "new_boost = XGBClassifier()\n",
    "new_boost.fit(X_train, y_train)"
   ]
  },
  {
   "cell_type": "code",
   "execution_count": 8,
   "metadata": {},
   "outputs": [],
   "source": [
    "#   Предсказания\n",
    "y_pred = pip_line.predict(X_test)\n",
    "y_pred_ada = model.predict(X_test)\n",
    "y_pred_xgbc = new_boost.predict(X_test)"
   ]
  },
  {
   "cell_type": "code",
   "execution_count": 9,
   "metadata": {},
   "outputs": [
    {
     "name": "stdout",
     "output_type": "stream",
     "text": [
      "1529 108123\n",
      "Accuracy: 0.9936461252462473\n",
      "              precision    recall  f1-score   support\n",
      "\n",
      "         0.0       1.00      1.00      1.00    106739\n",
      "         1.0       0.73      0.80      0.76      1384\n",
      "\n",
      "    accuracy                           0.99    108123\n",
      "   macro avg       0.86      0.90      0.88    108123\n",
      "weighted avg       0.99      0.99      0.99    108123\n",
      "\n",
      "Confusion matrix:\n",
      " [[106323    416]\n",
      " [   271   1113]]\n",
      "1050 108123\n",
      "Accuracy: 0.9947652210907948\n",
      "              precision    recall  f1-score   support\n",
      "\n",
      "         0.0       1.00      1.00      1.00    106739\n",
      "         1.0       0.89      0.67      0.77      1384\n",
      "\n",
      "    accuracy                           0.99    108123\n",
      "   macro avg       0.94      0.84      0.88    108123\n",
      "weighted avg       0.99      0.99      0.99    108123\n",
      "\n",
      "Confusion matrix:\n",
      " [[106623    116]\n",
      " [   450    934]]\n",
      "1189 108123\n",
      "Accuracy: 0.996050794003126\n",
      "              precision    recall  f1-score   support\n",
      "\n",
      "         0.0       1.00      1.00      1.00    106739\n",
      "         1.0       0.90      0.78      0.83      1384\n",
      "\n",
      "    accuracy                           1.00    108123\n",
      "   macro avg       0.95      0.89      0.92    108123\n",
      "weighted avg       1.00      1.00      1.00    108123\n",
      "\n",
      "Confusion matrix:\n",
      " [[106623    116]\n",
      " [   311   1073]]\n"
     ]
    }
   ],
   "source": [
    "# Evaluate the model\n",
    "X_test_1['y_pred'] = y_pred\n",
    "print(len(y_pred[y_pred == 1]), len(y_pred))\n",
    "print(\"Accuracy:\", accuracy_score(y_test, y_pred))\n",
    "print(classification_report(y_test, y_pred))\n",
    "print('Confusion matrix:\\n', confusion_matrix(y_true=y_test, y_pred=y_pred))\n",
    "\n",
    "# Evaluate the model\n",
    "X_test_2['y_pred'] = y_pred_ada\n",
    "print(len(y_pred_ada[y_pred_ada == 1]), len(y_pred_ada))\n",
    "print(\"Accuracy:\", accuracy_score(y_test, y_pred_ada))\n",
    "print(classification_report(y_test, y_pred_ada))\n",
    "print('Confusion matrix:\\n', confusion_matrix(y_true=y_test, y_pred=y_pred_ada))\n",
    "\n",
    "# Evaluate the model\n",
    "X_test_3['y_pred'] = y_pred_xgbc\n",
    "print(len(y_pred_xgbc[y_pred_xgbc == 1]), len(y_pred_xgbc))\n",
    "print(\"Accuracy:\", accuracy_score(y_test, y_pred_xgbc))\n",
    "print(classification_report(y_test, y_pred_xgbc))\n",
    "print('Confusion matrix:\\n', confusion_matrix(y_true=y_test, y_pred=y_pred_xgbc))\n"
   ]
  },
  {
   "cell_type": "code",
   "execution_count": 10,
   "metadata": {},
   "outputs": [
    {
     "name": "stdout",
     "output_type": "stream",
     "text": [
      "        customer  age  gender  merchant  category  amount  y_pred\n",
      "205109      1966    3       2        34         4   21477     1.0\n",
      "123448      2401    5       1        22         9   14962     1.0\n",
      "141887      3926    4       1        28         5   20002     1.0\n",
      "458049       837    1       1        34         4   19879     1.0\n",
      "345633      1922    4       1        28         5   22191     1.0\n",
      "...          ...  ...     ...       ...       ...     ...     ...\n",
      "162592       581    3       1        39         4   18987     1.0\n",
      "65684       1922    4       1        29         6   15233     1.0\n",
      "193300      2187    2       1        22         9   18752     1.0\n",
      "518400       762    3       2        34         4   20607     1.0\n",
      "114324       394    4       2        34         4   18523     1.0\n",
      "\n",
      "[1529 rows x 7 columns]\n",
      "1640\n",
      "        customer  age  gender  merchant  category  amount  fraud\n",
      "205109      1966    3       2        34         4   21477    1.0\n",
      "141887      3926    4       1        28         5   20002    1.0\n",
      "458049       837    1       1        34         4   19879    1.0\n",
      "345633      1922    4       1        28         5   22191    1.0\n",
      "268722      1686    2       1        34         4   17320    1.0\n",
      "...          ...  ...     ...       ...       ...     ...    ...\n",
      "238138      2167    4       2        42        11   18871    1.0\n",
      "509352      3107    2       2        49        10   10682    1.0\n",
      "324944       268    5       2        42        11   19272    1.0\n",
      "489187      2132    3       1        46         5   14811    1.0\n",
      "208214      1402    3       2        49        10   10716    1.0\n",
      "\n",
      "[1165 rows x 7 columns]\n",
      "        customer  age  gender  merchant  category  amount  fraud\n",
      "53969       2457    4       2        30        12     565    0.0\n",
      "491922      3921    3       2        24        14    1460    0.0\n",
      "175379      1186    2       2        18        12    6215    0.0\n",
      "279126      2699    5       2        18        12    1718    0.0\n",
      "218211      2069    3       2        23         4    7366    0.0\n",
      "...          ...  ...     ...       ...       ...     ...    ...\n",
      "292878      2315    1       1        18        12     955    0.0\n",
      "319541      3884    3       2        18        12    1778    0.0\n",
      "186393      3338    2       2        30        12    4275    0.0\n",
      "179779      2264    3       2        45         3    2343    0.0\n",
      "122791      2252    2       2        30        12     913    0.0\n",
      "\n",
      "[108123 rows x 7 columns]\n"
     ]
    }
   ],
   "source": [
    "first = X_test_1[X_test_1['y_pred'] == 1]\n",
    "second = X_test_2[X_test_2['y_pred'] == 1]\n",
    "third = X_test_3[X_test_3['y_pred'] == 1]\n",
    "print(first)\n",
    "indexes = []\n",
    "for x in first.index: \n",
    "    if x not in indexes: \n",
    "        indexes.append(x)\n",
    "\n",
    "for x in second.index: \n",
    "    if x not in indexes: \n",
    "        indexes.append(x)\n",
    "\n",
    "for x in third.index: \n",
    "    if x not in indexes: \n",
    "        indexes.append(x)\n",
    "\n",
    "print(len(indexes))\n",
    "xxx = X_test.copy()\n",
    "xxx['fraud'] = y_test\n",
    "a = xxx.loc[indexes]\n",
    "print(a[a['fraud'] == 1])\n",
    "print(xxx)"
   ]
  },
  {
   "cell_type": "code",
   "execution_count": 11,
   "metadata": {},
   "outputs": [
    {
     "name": "stdout",
     "output_type": "stream",
     "text": [
      "        customer  age  gender  merchant  category  amount  fraud\n",
      "544063       968    3       1         4         1    2961      0\n",
      "544064      2746    2       1        17        12      37      0\n",
      "544065      3627    2       2         0         4    8026      0\n",
      "544066      3627    2       2        22         4      17      0\n",
      "544067      1219    3       1        29        12    3654      0\n",
      "...          ...  ...     ...       ...       ...     ...    ...\n",
      "594638      1600    3       1        17        12    2053      0\n",
      "594639      3285    4       1        17        12    5063      0\n",
      "594640       514    2       1        30         2    2244      0\n",
      "594641      1059    5       2        17        12    1446      0\n",
      "594642      3221    4       1        17        12    2693      0\n",
      "\n",
      "[50000 rows x 7 columns]\n"
     ]
    }
   ],
   "source": [
    "#   Имитация работы с настроящими данными\n",
    "\n",
    "for column in [\"customer\", 'amount', \"age\", \"gender\", 'category', 'merchant']:\n",
    "    le = LabelEncoder()\n",
    "    df_for_predict[column] = le.fit_transform(df_for_predict[column])\n",
    "    \n",
    "print(df_for_predict)\n",
    "\n",
    "X = df_for_predict.drop(\"fraud\", axis=1)\n",
    "\n",
    "y_pred = pip_line.predict(X)\n",
    "y_pred_ada = model.predict(X)\n",
    "y_pred_xgbc = new_boost.predict(X)"
   ]
  },
  {
   "cell_type": "code",
   "execution_count": 13,
   "metadata": {},
   "outputs": [],
   "source": [
    "#   Подготовка данных для отправки на сайт\n",
    "X['y_pred'] = y_pred\n",
    "X['y_pred_ada'] = y_pred_ada\n",
    "X['y_pred_xgbc'] = y_pred_xgbc\n",
    "pred_columns = ['y_pred', 'y_pred_ada', 'y_pred_xgbc']\n",
    "useless_columns = ['step', 'zipcodeOri', 'zipMerchant']\n",
    "X['fraud'] = X[pred_columns].apply(lambda x: any(x), axis=1)\n",
    "X['fraud'] = X['fraud'].apply(lambda x: 1 if x else 0)\n",
    "X = X.drop(columns=pred_columns)\n",
    "X[useless_columns] = df_for_site[df_for_site.index.isin(X.index)][useless_columns]"
   ]
  },
  {
   "cell_type": "code",
   "execution_count": 14,
   "metadata": {},
   "outputs": [
    {
     "name": "stdout",
     "output_type": "stream",
     "text": [
      "{'step': 166, 'customer': 968, 'age': 3, 'gender': 1, 'zipcodeOri': \"'28007'\", 'merchant': 4, 'zipMerchant': \"'28007'\", 'category': 1, 'amount': 2961, 'fraud': 0}\n",
      "{'step': 166, 'customer': 2746, 'age': 2, 'gender': 1, 'zipcodeOri': \"'28007'\", 'merchant': 17, 'zipMerchant': \"'28007'\", 'category': 12, 'amount': 37, 'fraud': 1}\n",
      "{'step': 166, 'customer': 3627, 'age': 2, 'gender': 2, 'zipcodeOri': \"'28007'\", 'merchant': 0, 'zipMerchant': \"'28007'\", 'category': 4, 'amount': 8026, 'fraud': 0}\n",
      "{'step': 166, 'customer': 3627, 'age': 2, 'gender': 2, 'zipcodeOri': \"'28007'\", 'merchant': 22, 'zipMerchant': \"'28007'\", 'category': 4, 'amount': 17, 'fraud': 0}\n",
      "{'step': 166, 'customer': 1219, 'age': 3, 'gender': 1, 'zipcodeOri': \"'28007'\", 'merchant': 29, 'zipMerchant': \"'28007'\", 'category': 12, 'amount': 3654, 'fraud': 0}\n",
      "{'step': 166, 'customer': 755, 'age': 2, 'gender': 2, 'zipcodeOri': \"'28007'\", 'merchant': 17, 'zipMerchant': \"'28007'\", 'category': 12, 'amount': 4331, 'fraud': 0}\n",
      "{'step': 166, 'customer': 2465, 'age': 4, 'gender': 2, 'zipcodeOri': \"'28007'\", 'merchant': 17, 'zipMerchant': \"'28007'\", 'category': 12, 'amount': 2929, 'fraud': 0}\n",
      "{'step': 166, 'customer': 3354, 'age': 2, 'gender': 2, 'zipcodeOri': \"'28007'\", 'merchant': 26, 'zipMerchant': \"'28007'\", 'category': 14, 'amount': 7233, 'fraud': 0}\n",
      "{'step': 166, 'customer': 3354, 'age': 2, 'gender': 2, 'zipcodeOri': \"'28007'\", 'merchant': 39, 'zipMerchant': \"'28007'\", 'category': 14, 'amount': 1769, 'fraud': 0}\n",
      "{'step': 166, 'customer': 3354, 'age': 2, 'gender': 2, 'zipcodeOri': \"'28007'\", 'merchant': 45, 'zipMerchant': \"'28007'\", 'category': 14, 'amount': 5186, 'fraud': 0}\n",
      "{'step': 166, 'customer': 3354, 'age': 2, 'gender': 2, 'zipcodeOri': \"'28007'\", 'merchant': 23, 'zipMerchant': \"'28007'\", 'category': 14, 'amount': 8206, 'fraud': 0}\n",
      "{'step': 166, 'customer': 943, 'age': 3, 'gender': 2, 'zipcodeOri': \"'28007'\", 'merchant': 17, 'zipMerchant': \"'28007'\", 'category': 12, 'amount': 76, 'fraud': 0}\n",
      "{'step': 166, 'customer': 1806, 'age': 4, 'gender': 2, 'zipcodeOri': \"'28007'\", 'merchant': 29, 'zipMerchant': \"'28007'\", 'category': 12, 'amount': 3386, 'fraud': 0}\n",
      "{'step': 166, 'customer': 1992, 'age': 2, 'gender': 2, 'zipcodeOri': \"'28007'\", 'merchant': 14, 'zipMerchant': \"'28007'\", 'category': 10, 'amount': 8931, 'fraud': 0}\n",
      "{'step': 166, 'customer': 2534, 'age': 3, 'gender': 1, 'zipcodeOri': \"'28007'\", 'merchant': 17, 'zipMerchant': \"'28007'\", 'category': 12, 'amount': 596, 'fraud': 1}\n",
      "{'step': 166, 'customer': 2258, 'age': 3, 'gender': 2, 'zipcodeOri': \"'28007'\", 'merchant': 17, 'zipMerchant': \"'28007'\", 'category': 12, 'amount': 147, 'fraud': 0}\n",
      "{'step': 166, 'customer': 31, 'age': 2, 'gender': 2, 'zipcodeOri': \"'28007'\", 'merchant': 17, 'zipMerchant': \"'28007'\", 'category': 12, 'amount': 623, 'fraud': 0}\n",
      "{'step': 166, 'customer': 2976, 'age': 4, 'gender': 1, 'zipcodeOri': \"'28007'\", 'merchant': 29, 'zipMerchant': \"'28007'\", 'category': 12, 'amount': 3589, 'fraud': 0}\n",
      "{'step': 166, 'customer': 3771, 'age': 2, 'gender': 2, 'zipcodeOri': \"'28007'\", 'merchant': 17, 'zipMerchant': \"'28007'\", 'category': 12, 'amount': 3509, 'fraud': 0}\n",
      "{'step': 166, 'customer': 2344, 'age': 3, 'gender': 2, 'zipcodeOri': \"'28007'\", 'merchant': 17, 'zipMerchant': \"'28007'\", 'category': 12, 'amount': 1752, 'fraud': 0}\n",
      "{'step': 166, 'customer': 3865, 'age': 3, 'gender': 1, 'zipcodeOri': \"'28007'\", 'merchant': 29, 'zipMerchant': \"'28007'\", 'category': 12, 'amount': 5366, 'fraud': 0}\n",
      "{'step': 166, 'customer': 3865, 'age': 3, 'gender': 1, 'zipcodeOri': \"'28007'\", 'merchant': 17, 'zipMerchant': \"'28007'\", 'category': 12, 'amount': 1277, 'fraud': 1}\n",
      "{'step': 166, 'customer': 749, 'age': 5, 'gender': 1, 'zipcodeOri': \"'28007'\", 'merchant': 29, 'zipMerchant': \"'28007'\", 'category': 12, 'amount': 1958, 'fraud': 0}\n",
      "{'step': 166, 'customer': 698, 'age': 5, 'gender': 2, 'zipcodeOri': \"'28007'\", 'merchant': 29, 'zipMerchant': \"'28007'\", 'category': 12, 'amount': 5141, 'fraud': 0}\n",
      "{'step': 166, 'customer': 118, 'age': 3, 'gender': 1, 'zipcodeOri': \"'28007'\", 'merchant': 29, 'zipMerchant': \"'28007'\", 'category': 12, 'amount': 4572, 'fraud': 0}\n",
      "{'step': 166, 'customer': 3327, 'age': 4, 'gender': 1, 'zipcodeOri': \"'28007'\", 'merchant': 17, 'zipMerchant': \"'28007'\", 'category': 12, 'amount': 5178, 'fraud': 1}\n",
      "{'step': 166, 'customer': 2890, 'age': 2, 'gender': 1, 'zipcodeOri': \"'28007'\", 'merchant': 29, 'zipMerchant': \"'28007'\", 'category': 12, 'amount': 472, 'fraud': 0}\n",
      "{'step': 166, 'customer': 2997, 'age': 3, 'gender': 1, 'zipcodeOri': \"'28007'\", 'merchant': 17, 'zipMerchant': \"'28007'\", 'category': 12, 'amount': 562, 'fraud': 1}\n",
      "{'step': 166, 'customer': 3291, 'age': 2, 'gender': 2, 'zipcodeOri': \"'28007'\", 'merchant': 26, 'zipMerchant': \"'28007'\", 'category': 14, 'amount': 2835, 'fraud': 0}\n",
      "{'step': 166, 'customer': 3291, 'age': 2, 'gender': 2, 'zipcodeOri': \"'28007'\", 'merchant': 39, 'zipMerchant': \"'28007'\", 'category': 14, 'amount': 7356, 'fraud': 0}\n",
      "{'step': 166, 'customer': 218, 'age': 2, 'gender': 2, 'zipcodeOri': \"'28007'\", 'merchant': 0, 'zipMerchant': \"'28007'\", 'category': 4, 'amount': 8725, 'fraud': 0}\n",
      "{'step': 166, 'customer': 25, 'age': 1, 'gender': 2, 'zipcodeOri': \"'28007'\", 'merchant': 40, 'zipMerchant': \"'28007'\", 'category': 11, 'amount': 2908, 'fraud': 0}\n"
     ]
    },
    {
     "ename": "KeyboardInterrupt",
     "evalue": "",
     "output_type": "error",
     "traceback": [
      "\u001b[1;31m---------------------------------------------------------------------------\u001b[0m",
      "\u001b[1;31mKeyboardInterrupt\u001b[0m                         Traceback (most recent call last)",
      "\u001b[1;32md:\\Python\\Hackaton\\RinHack\\ml\\main.ipynb Cell 13\u001b[0m line \u001b[0;36m1\n\u001b[0;32m      <a href='vscode-notebook-cell:/d%3A/Python/Hackaton/RinHack/ml/main.ipynb#X15sZmlsZQ%3D%3D?line=1'>2</a>\u001b[0m data \u001b[39m=\u001b[39m {\n\u001b[0;32m      <a href='vscode-notebook-cell:/d%3A/Python/Hackaton/RinHack/ml/main.ipynb#X15sZmlsZQ%3D%3D?line=2'>3</a>\u001b[0m     \u001b[39m'\u001b[39m\u001b[39mstep\u001b[39m\u001b[39m'\u001b[39m: row\u001b[39m.\u001b[39mstep,\n\u001b[0;32m      <a href='vscode-notebook-cell:/d%3A/Python/Hackaton/RinHack/ml/main.ipynb#X15sZmlsZQ%3D%3D?line=3'>4</a>\u001b[0m     \u001b[39m'\u001b[39m\u001b[39mcustomer\u001b[39m\u001b[39m'\u001b[39m: row\u001b[39m.\u001b[39mcustomer,\n\u001b[1;32m   (...)\u001b[0m\n\u001b[0;32m     <a href='vscode-notebook-cell:/d%3A/Python/Hackaton/RinHack/ml/main.ipynb#X15sZmlsZQ%3D%3D?line=11'>12</a>\u001b[0m     \u001b[39m'\u001b[39m\u001b[39mfraud\u001b[39m\u001b[39m'\u001b[39m: row\u001b[39m.\u001b[39mfraud\n\u001b[0;32m     <a href='vscode-notebook-cell:/d%3A/Python/Hackaton/RinHack/ml/main.ipynb#X15sZmlsZQ%3D%3D?line=12'>13</a>\u001b[0m }\n\u001b[0;32m     <a href='vscode-notebook-cell:/d%3A/Python/Hackaton/RinHack/ml/main.ipynb#X15sZmlsZQ%3D%3D?line=13'>14</a>\u001b[0m \u001b[39mprint\u001b[39m(data)\n\u001b[1;32m---> <a href='vscode-notebook-cell:/d%3A/Python/Hackaton/RinHack/ml/main.ipynb#X15sZmlsZQ%3D%3D?line=14'>15</a>\u001b[0m time\u001b[39m.\u001b[39;49msleep(\u001b[39m1\u001b[39;49m)\n",
      "\u001b[1;31mKeyboardInterrupt\u001b[0m: "
     ]
    }
   ],
   "source": [
    "for i, row in X.iterrows(): \n",
    "    data = {\n",
    "        'step': row.step,\n",
    "        'customer': row.customer,\n",
    "        'age': row.age, \n",
    "        'gender': row.gender,\n",
    "        'zipcodeOri': row.zipcodeOri,\n",
    "        'merchant': row.merchant,\n",
    "        'zipMerchant': row.zipMerchant,\n",
    "        'category': row.category,\n",
    "        'amount': row.amount,\n",
    "        'fraud': row.fraud\n",
    "    }\n",
    "    print(data)\n",
    "    time.sleep(1)"
   ]
  }
 ],
 "metadata": {
  "kernelspec": {
   "display_name": "Python 3",
   "language": "python",
   "name": "python3"
  },
  "language_info": {
   "codemirror_mode": {
    "name": "ipython",
    "version": 3
   },
   "file_extension": ".py",
   "mimetype": "text/x-python",
   "name": "python",
   "nbconvert_exporter": "python",
   "pygments_lexer": "ipython3",
   "version": "3.10.0"
  }
 },
 "nbformat": 4,
 "nbformat_minor": 2
}
